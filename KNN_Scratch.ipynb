{
  "nbformat": 4,
  "nbformat_minor": 0,
  "metadata": {
    "colab": {
      "name": "KNN Scratch.ipynb",
      "provenance": []
    },
    "kernelspec": {
      "name": "python3",
      "display_name": "Python 3"
    }
  },
  "cells": [
    {
      "cell_type": "markdown",
      "metadata": {
        "id": "4lh8kEj4Y2Zf",
        "colab_type": "text"
      },
      "source": [
        "## **Implementation of K Nearest Neighbours from Scratch**\n",
        "\n",
        "In this project we will implement KNN from scratch without using inbuilt classifier.\n",
        "\n",
        "**KNN**\n",
        "\n",
        "The k-nearest neighbors (KNN) algorithm is a simple, easy-to-implement supervised machine learning algorithm that can be used to solve both classification and regression problems.\n",
        "\n",
        "\n",
        "Advantages\n",
        "-The algorithm is simple and easy to implement.\n",
        "-There’s no need to build a model, tune several parameters,or make additional assumptions.\n",
        "-The algorithm is versatile. It can be used for classification, regression, and search (as we  will see in the next section).\n",
        "\n",
        "Disadvantages\n",
        "The algorithm gets significantly slower as the number of examples and/or predictors/independent variables increase."
      ]
    },
    {
      "cell_type": "markdown",
      "metadata": {
        "id": "LnGfDGB7EvH9",
        "colab_type": "text"
      },
      "source": [
        "**Importing Libraries**"
      ]
    },
    {
      "cell_type": "code",
      "metadata": {
        "id": "8uy9hW9OG43Z",
        "colab_type": "code",
        "colab": {}
      },
      "source": [
        "import numpy as np\n",
        "import pandas as pd\n",
        "from sklearn.model_selection import train_test_split\n",
        "from collections import Counter\n",
        "from sklearn.metrics import accuracy_score"
      ],
      "execution_count": 0,
      "outputs": []
    },
    {
      "cell_type": "markdown",
      "metadata": {
        "id": "OuC0BfO4E6O7",
        "colab_type": "text"
      },
      "source": [
        "**Uploading data using pandas**"
      ]
    },
    {
      "cell_type": "code",
      "metadata": {
        "id": "jfo-c27dHCna",
        "colab_type": "code",
        "colab": {}
      },
      "source": [
        "data = pd.read_csv('/content/heart.csv')"
      ],
      "execution_count": 0,
      "outputs": []
    },
    {
      "cell_type": "code",
      "metadata": {
        "id": "BRkCU_0yEkms",
        "colab_type": "code",
        "colab": {
          "base_uri": "https://localhost:8080/",
          "height": 198
        },
        "outputId": "62afe524-d6f2-4ba6-d394-f4571fde7a78"
      },
      "source": [
        "# Displaying top 5 rows of our data \n",
        "data.head()"
      ],
      "execution_count": 3,
      "outputs": [
        {
          "output_type": "execute_result",
          "data": {
            "text/html": [
              "<div>\n",
              "<style scoped>\n",
              "    .dataframe tbody tr th:only-of-type {\n",
              "        vertical-align: middle;\n",
              "    }\n",
              "\n",
              "    .dataframe tbody tr th {\n",
              "        vertical-align: top;\n",
              "    }\n",
              "\n",
              "    .dataframe thead th {\n",
              "        text-align: right;\n",
              "    }\n",
              "</style>\n",
              "<table border=\"1\" class=\"dataframe\">\n",
              "  <thead>\n",
              "    <tr style=\"text-align: right;\">\n",
              "      <th></th>\n",
              "      <th>age</th>\n",
              "      <th>sex</th>\n",
              "      <th>cp</th>\n",
              "      <th>trestbps</th>\n",
              "      <th>chol</th>\n",
              "      <th>fbs</th>\n",
              "      <th>restecg</th>\n",
              "      <th>thalach</th>\n",
              "      <th>exang</th>\n",
              "      <th>oldpeak</th>\n",
              "      <th>slope</th>\n",
              "      <th>ca</th>\n",
              "      <th>thal</th>\n",
              "      <th>target</th>\n",
              "    </tr>\n",
              "  </thead>\n",
              "  <tbody>\n",
              "    <tr>\n",
              "      <th>0</th>\n",
              "      <td>63</td>\n",
              "      <td>1</td>\n",
              "      <td>3</td>\n",
              "      <td>145</td>\n",
              "      <td>233</td>\n",
              "      <td>1</td>\n",
              "      <td>0</td>\n",
              "      <td>150</td>\n",
              "      <td>0</td>\n",
              "      <td>2.3</td>\n",
              "      <td>0</td>\n",
              "      <td>0</td>\n",
              "      <td>1</td>\n",
              "      <td>1</td>\n",
              "    </tr>\n",
              "    <tr>\n",
              "      <th>1</th>\n",
              "      <td>37</td>\n",
              "      <td>1</td>\n",
              "      <td>2</td>\n",
              "      <td>130</td>\n",
              "      <td>250</td>\n",
              "      <td>0</td>\n",
              "      <td>1</td>\n",
              "      <td>187</td>\n",
              "      <td>0</td>\n",
              "      <td>3.5</td>\n",
              "      <td>0</td>\n",
              "      <td>0</td>\n",
              "      <td>2</td>\n",
              "      <td>1</td>\n",
              "    </tr>\n",
              "    <tr>\n",
              "      <th>2</th>\n",
              "      <td>41</td>\n",
              "      <td>0</td>\n",
              "      <td>1</td>\n",
              "      <td>130</td>\n",
              "      <td>204</td>\n",
              "      <td>0</td>\n",
              "      <td>0</td>\n",
              "      <td>172</td>\n",
              "      <td>0</td>\n",
              "      <td>1.4</td>\n",
              "      <td>2</td>\n",
              "      <td>0</td>\n",
              "      <td>2</td>\n",
              "      <td>1</td>\n",
              "    </tr>\n",
              "    <tr>\n",
              "      <th>3</th>\n",
              "      <td>56</td>\n",
              "      <td>1</td>\n",
              "      <td>1</td>\n",
              "      <td>120</td>\n",
              "      <td>236</td>\n",
              "      <td>0</td>\n",
              "      <td>1</td>\n",
              "      <td>178</td>\n",
              "      <td>0</td>\n",
              "      <td>0.8</td>\n",
              "      <td>2</td>\n",
              "      <td>0</td>\n",
              "      <td>2</td>\n",
              "      <td>1</td>\n",
              "    </tr>\n",
              "    <tr>\n",
              "      <th>4</th>\n",
              "      <td>57</td>\n",
              "      <td>0</td>\n",
              "      <td>0</td>\n",
              "      <td>120</td>\n",
              "      <td>354</td>\n",
              "      <td>0</td>\n",
              "      <td>1</td>\n",
              "      <td>163</td>\n",
              "      <td>1</td>\n",
              "      <td>0.6</td>\n",
              "      <td>2</td>\n",
              "      <td>0</td>\n",
              "      <td>2</td>\n",
              "      <td>1</td>\n",
              "    </tr>\n",
              "  </tbody>\n",
              "</table>\n",
              "</div>"
            ],
            "text/plain": [
              "   age  sex  cp  trestbps  chol  fbs  ...  exang  oldpeak  slope  ca  thal  target\n",
              "0   63    1   3       145   233    1  ...      0      2.3      0   0     1       1\n",
              "1   37    1   2       130   250    0  ...      0      3.5      0   0     2       1\n",
              "2   41    0   1       130   204    0  ...      0      1.4      2   0     2       1\n",
              "3   56    1   1       120   236    0  ...      0      0.8      2   0     2       1\n",
              "4   57    0   0       120   354    0  ...      1      0.6      2   0     2       1\n",
              "\n",
              "[5 rows x 14 columns]"
            ]
          },
          "metadata": {
            "tags": []
          },
          "execution_count": 3
        }
      ]
    },
    {
      "cell_type": "markdown",
      "metadata": {
        "id": "9_Cjb14tFMjN",
        "colab_type": "text"
      },
      "source": [
        "**Splitting data into train and test set**"
      ]
    },
    {
      "cell_type": "code",
      "metadata": {
        "id": "aAHFelT1QWeM",
        "colab_type": "code",
        "colab": {}
      },
      "source": [
        "x = data.drop(\"target\",axis=1)\n",
        "y = data[\"target\"]\n",
        "x=x.to_numpy()\n",
        "y=y.to_numpy()\n",
        "X_train,X_test,Y_train,Y_test = train_test_split(x,y,test_size=0.20,random_state=0)"
      ],
      "execution_count": 0,
      "outputs": []
    },
    {
      "cell_type": "markdown",
      "metadata": {
        "id": "YUkh8wrjFUlc",
        "colab_type": "text"
      },
      "source": [
        "**Made function which will return euclidean distance between two points**\n",
        "\n",
        "According to the Euclidean distance formula, the distance between two points in the plane with coordinates (x, y) and (a, b) is given by\n",
        "\n",
        "\n",
        "\n",
        "dist((x, y), (a, b)) = $\\sqrt{(x - a)² + (y - b)²}$"
      ]
    },
    {
      "cell_type": "code",
      "metadata": {
        "id": "HV8Y98wgW1HT",
        "colab_type": "code",
        "colab": {}
      },
      "source": [
        "def euclidean_distance(x1, x2):\n",
        "        return np.sqrt(np.sum((x1 - x2)**2))"
      ],
      "execution_count": 0,
      "outputs": []
    },
    {
      "cell_type": "markdown",
      "metadata": {
        "id": "05Y6VcaFFn3L",
        "colab_type": "text"
      },
      "source": [
        "**Predict function**\n",
        "\n",
        "In KNN we dont need to train since we will calculate eucledian distance from all training points and then predict."
      ]
    },
    {
      "cell_type": "code",
      "metadata": {
        "id": "h7uQbh7ELTlC",
        "colab_type": "code",
        "colab": {}
      },
      "source": [
        "def predict_one(x_train,y_train,x_test,k):\n",
        "    #distances list will save the distance of the testing data point\n",
        "    #from all training data point\n",
        "    distances=[]\n",
        "    for i in range(len(x_train)):\n",
        "        #distance store is square difference distance of given testing point\n",
        "        distance=euclidean_distance(x_train[i], x_test)\n",
        "      \n",
        "        #in distances we will store the ith training point and it's distance from testing point\n",
        "        distances.append([distance,i])\n",
        "        '''Sorting the distance list as here we check the distance from \n",
        "           training point and testing point should be minimum or we check what are the \n",
        "           training point near to the give testing point'''\n",
        "        distances=sorted(distances)\n",
        "    \n",
        "    targets=[]\n",
        "    for i in range(k):\n",
        "            #here in index_of_training we get the training point\n",
        "            index_of_trainig_data=distances[i][1]\n",
        "           \n",
        "            #and we are storing the class of index_of_training\n",
        "            targets.append(y_train[index_of_trainig_data])\n",
        "         \n",
        "            #here we are taking the most common targets and it return how many time it occur\n",
        "   \n",
        "    return Counter(targets).most_common(1)[0][0]"
      ],
      "execution_count": 0,
      "outputs": []
    },
    {
      "cell_type": "code",
      "metadata": {
        "id": "qiFY5PAcLXeK",
        "colab_type": "code",
        "colab": {}
      },
      "source": [
        "'''Prediction function which take x_train,y_train and predict the classes for x_test_data,\n",
        "   here we are also passing the k which is telling how many nearest neighbors we want to consider'''\n",
        "def predict(x_train,y_train,x_test_data,k):\n",
        "    predictions=[]\n",
        "    for x_test in x_test_data:\n",
        "        #Get the output from predict_one and storing it into the list \n",
        "        predictions.append(predict_one(x_train,y_train,x_test,k))\n",
        "    return predictions"
      ],
      "execution_count": 0,
      "outputs": []
    },
    {
      "cell_type": "code",
      "metadata": {
        "id": "ghvRGLrHLZhY",
        "colab_type": "code",
        "colab": {}
      },
      "source": [
        "#Calling the predict function\n",
        "y_predict=predict(X_train,Y_train,X_test,7)"
      ],
      "execution_count": 0,
      "outputs": []
    },
    {
      "cell_type": "markdown",
      "metadata": {
        "id": "7UQwGsYRGLTh",
        "colab_type": "text"
      },
      "source": [
        "**Accuracy Score**"
      ]
    },
    {
      "cell_type": "code",
      "metadata": {
        "id": "Zlr-bII5Lbh3",
        "colab_type": "code",
        "outputId": "880996ac-91fc-4e32-922f-d8efebcedef7",
        "colab": {
          "base_uri": "https://localhost:8080/",
          "height": 35
        }
      },
      "source": [
        "#Getting the accuracy_score\n",
        "accuracy_score(Y_test,y_predict)"
      ],
      "execution_count": 9,
      "outputs": [
        {
          "output_type": "execute_result",
          "data": {
            "text/plain": [
              "0.6721311475409836"
            ]
          },
          "metadata": {
            "tags": []
          },
          "execution_count": 9
        }
      ]
    },
    {
      "cell_type": "markdown",
      "metadata": {
        "id": "Moealp0wGQLK",
        "colab_type": "text"
      },
      "source": [
        "**Conclusion**\n",
        "\n",
        "We have succesfully implemented KNN from scratch."
      ]
    }
  ]
}